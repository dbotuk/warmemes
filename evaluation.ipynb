{
 "cells": [
  {
   "cell_type": "code",
   "execution_count": 1,
   "id": "733169f5",
   "metadata": {},
   "outputs": [
    {
     "name": "stdout",
     "output_type": "stream",
     "text": [
      "Requirement already satisfied: bert-score in /Users/denisbotuk/anaconda3/lib/python3.11/site-packages (0.3.13)\n",
      "Requirement already satisfied: torch>=1.0.0 in /Users/denisbotuk/anaconda3/lib/python3.11/site-packages (from bert-score) (2.5.1)\n",
      "Requirement already satisfied: pandas>=1.0.1 in /Users/denisbotuk/anaconda3/lib/python3.11/site-packages (from bert-score) (2.1.1)\n",
      "Requirement already satisfied: transformers>=3.0.0 in /Users/denisbotuk/anaconda3/lib/python3.11/site-packages (from bert-score) (4.41.1)\n",
      "Requirement already satisfied: numpy in /Users/denisbotuk/anaconda3/lib/python3.11/site-packages (from bert-score) (1.26.4)\n",
      "Requirement already satisfied: requests in /Users/denisbotuk/anaconda3/lib/python3.11/site-packages (from bert-score) (2.32.3)\n",
      "Requirement already satisfied: tqdm>=4.31.1 in /Users/denisbotuk/anaconda3/lib/python3.11/site-packages (from bert-score) (4.65.0)\n",
      "Requirement already satisfied: matplotlib in /Users/denisbotuk/anaconda3/lib/python3.11/site-packages (from bert-score) (3.9.2)\n",
      "Requirement already satisfied: packaging>=20.9 in /Users/denisbotuk/anaconda3/lib/python3.11/site-packages (from bert-score) (23.1)\n",
      "Requirement already satisfied: python-dateutil>=2.8.2 in /Users/denisbotuk/anaconda3/lib/python3.11/site-packages (from pandas>=1.0.1->bert-score) (2.8.2)\n",
      "Requirement already satisfied: pytz>=2020.1 in /Users/denisbotuk/anaconda3/lib/python3.11/site-packages (from pandas>=1.0.1->bert-score) (2023.3.post1)\n",
      "Requirement already satisfied: tzdata>=2022.1 in /Users/denisbotuk/anaconda3/lib/python3.11/site-packages (from pandas>=1.0.1->bert-score) (2023.3)\n",
      "Requirement already satisfied: filelock in /Users/denisbotuk/anaconda3/lib/python3.11/site-packages (from torch>=1.0.0->bert-score) (3.9.0)\n",
      "Requirement already satisfied: typing-extensions>=4.8.0 in /Users/denisbotuk/anaconda3/lib/python3.11/site-packages (from torch>=1.0.0->bert-score) (4.12.2)\n",
      "Requirement already satisfied: networkx in /Users/denisbotuk/anaconda3/lib/python3.11/site-packages (from torch>=1.0.0->bert-score) (3.1)\n",
      "Requirement already satisfied: jinja2 in /Users/denisbotuk/anaconda3/lib/python3.11/site-packages (from torch>=1.0.0->bert-score) (3.1.2)\n",
      "Requirement already satisfied: fsspec in /Users/denisbotuk/anaconda3/lib/python3.11/site-packages (from torch>=1.0.0->bert-score) (2024.9.0)\n",
      "Requirement already satisfied: sympy==1.13.1 in /Users/denisbotuk/anaconda3/lib/python3.11/site-packages (from torch>=1.0.0->bert-score) (1.13.1)\n",
      "Requirement already satisfied: mpmath<1.4,>=1.1.0 in /Users/denisbotuk/anaconda3/lib/python3.11/site-packages (from sympy==1.13.1->torch>=1.0.0->bert-score) (1.3.0)\n",
      "Requirement already satisfied: huggingface-hub<1.0,>=0.23.0 in /Users/denisbotuk/anaconda3/lib/python3.11/site-packages (from transformers>=3.0.0->bert-score) (0.25.1)\n",
      "Requirement already satisfied: pyyaml>=5.1 in /Users/denisbotuk/anaconda3/lib/python3.11/site-packages (from transformers>=3.0.0->bert-score) (6.0.2)\n",
      "Requirement already satisfied: regex!=2019.12.17 in /Users/denisbotuk/anaconda3/lib/python3.11/site-packages (from transformers>=3.0.0->bert-score) (2022.7.9)\n",
      "Requirement already satisfied: tokenizers<0.20,>=0.19 in /Users/denisbotuk/anaconda3/lib/python3.11/site-packages (from transformers>=3.0.0->bert-score) (0.19.1)\n",
      "Requirement already satisfied: safetensors>=0.4.1 in /Users/denisbotuk/anaconda3/lib/python3.11/site-packages (from transformers>=3.0.0->bert-score) (0.4.5)\n",
      "Requirement already satisfied: contourpy>=1.0.1 in /Users/denisbotuk/anaconda3/lib/python3.11/site-packages (from matplotlib->bert-score) (1.0.5)\n",
      "Requirement already satisfied: cycler>=0.10 in /Users/denisbotuk/anaconda3/lib/python3.11/site-packages (from matplotlib->bert-score) (0.11.0)\n",
      "Requirement already satisfied: fonttools>=4.22.0 in /Users/denisbotuk/anaconda3/lib/python3.11/site-packages (from matplotlib->bert-score) (4.25.0)\n",
      "Requirement already satisfied: kiwisolver>=1.3.1 in /Users/denisbotuk/anaconda3/lib/python3.11/site-packages (from matplotlib->bert-score) (1.4.4)\n",
      "Requirement already satisfied: pillow>=8 in /Users/denisbotuk/anaconda3/lib/python3.11/site-packages (from matplotlib->bert-score) (9.4.0)\n",
      "Requirement already satisfied: pyparsing>=2.3.1 in /Users/denisbotuk/anaconda3/lib/python3.11/site-packages (from matplotlib->bert-score) (3.0.9)\n",
      "Requirement already satisfied: charset-normalizer<4,>=2 in /Users/denisbotuk/anaconda3/lib/python3.11/site-packages (from requests->bert-score) (2.0.4)\n",
      "Requirement already satisfied: idna<4,>=2.5 in /Users/denisbotuk/anaconda3/lib/python3.11/site-packages (from requests->bert-score) (2.10)\n",
      "Requirement already satisfied: urllib3<3,>=1.21.1 in /Users/denisbotuk/anaconda3/lib/python3.11/site-packages (from requests->bert-score) (1.26.16)\n",
      "Requirement already satisfied: certifi>=2017.4.17 in /Users/denisbotuk/anaconda3/lib/python3.11/site-packages (from requests->bert-score) (2023.7.22)\n",
      "Requirement already satisfied: six>=1.5 in /Users/denisbotuk/anaconda3/lib/python3.11/site-packages (from python-dateutil>=2.8.2->pandas>=1.0.1->bert-score) (1.16.0)\n",
      "Requirement already satisfied: MarkupSafe>=2.0 in /Users/denisbotuk/anaconda3/lib/python3.11/site-packages (from jinja2->torch>=1.0.0->bert-score) (2.1.1)\n"
     ]
    }
   ],
   "source": [
    "!pip install bert-score"
   ]
  },
  {
   "cell_type": "code",
   "execution_count": 2,
   "id": "f5d8c2de",
   "metadata": {},
   "outputs": [],
   "source": [
    "import json\n",
    "import numpy as np\n",
    "\n",
    "from bert_score import score"
   ]
  },
  {
   "cell_type": "code",
   "execution_count": 3,
   "id": "f677aa4f",
   "metadata": {},
   "outputs": [],
   "source": [
    "file_name = 'base_paligemma_uamemes_predicted_answers.json'\n",
    "\n",
    "with open(file_name, 'r') as file:\n",
    "    results = json.load(file)"
   ]
  },
  {
   "cell_type": "code",
   "execution_count": 4,
   "id": "894fc079",
   "metadata": {},
   "outputs": [],
   "source": [
    "ground_truth = list(map(lambda entry: entry['ground-truth-answer'], results))\n",
    "predicted = list(map(lambda entry: entry['answer'], results))"
   ]
  },
  {
   "cell_type": "code",
   "execution_count": 5,
   "id": "346084a2",
   "metadata": {},
   "outputs": [
    {
     "name": "stdout",
     "output_type": "stream",
     "text": [
      "calculating scores...\n",
      "computing bert embedding.\n"
     ]
    },
    {
     "data": {
      "application/vnd.jupyter.widget-view+json": {
       "model_id": "d300c1f793984e4d9596bffad7c91bbc",
       "version_major": 2,
       "version_minor": 0
      },
      "text/plain": [
       "  0%|          | 0/7 [00:00<?, ?it/s]"
      ]
     },
     "metadata": {},
     "output_type": "display_data"
    },
    {
     "name": "stdout",
     "output_type": "stream",
     "text": [
      "computing greedy matching.\n"
     ]
    },
    {
     "data": {
      "application/vnd.jupyter.widget-view+json": {
       "model_id": "1f48940bedee4d9fa6fc6ffb22194ad3",
       "version_major": 2,
       "version_minor": 0
      },
      "text/plain": [
       "  0%|          | 0/5 [00:00<?, ?it/s]"
      ]
     },
     "metadata": {},
     "output_type": "display_data"
    },
    {
     "name": "stdout",
     "output_type": "stream",
     "text": [
      "done in 2.54 seconds, 114.40 sentences/sec\n"
     ]
    }
   ],
   "source": [
    "precisions, recalls, f1_scores = score(predicted, ground_truth, lang=\"uk\", verbose=True)"
   ]
  },
  {
   "cell_type": "code",
   "execution_count": 6,
   "id": "8c33aa65",
   "metadata": {},
   "outputs": [],
   "source": [
    "precisions = list(map(lambda score: score.item(), precisions))\n",
    "recalls = list(map(lambda score: score.item(), recalls))\n",
    "f1_scores = list(map(lambda score: score.item(), f1_scores))"
   ]
  },
  {
   "cell_type": "code",
   "execution_count": 7,
   "id": "1790238f",
   "metadata": {},
   "outputs": [],
   "source": [
    "for i, (precision, recall, f1) in enumerate(zip(precisions, recalls, f1_scores)):\n",
    "    metric = {\n",
    "        'precision': precision,\n",
    "        'recall': recall,\n",
    "        'f1': f1\n",
    "    }\n",
    "    results[i]['metric'] = metric"
   ]
  },
  {
   "cell_type": "code",
   "execution_count": 8,
   "id": "05b823d6",
   "metadata": {},
   "outputs": [
    {
     "data": {
      "text/plain": [
       "array([{'ground-truth-answer': 'Відступ російської армії з Харківщини', 'answer': 'Відхід російських військ з України.', 'metric': {'precision': 0.8766322135925293, 'recall': 0.8770008683204651, 'f1': 0.8768165707588196}},\n",
       "       {'ground-truth-answer': 'Вибух на Кримському мосту', 'answer': 'Вибух на мосту АТО.', 'metric': {'precision': 0.8383924961090088, 'recall': 0.8422766327857971, 'f1': 0.8403301239013672}},\n",
       "       {'ground-truth-answer': 'Виявилося, що російські військові копали окопи в Чорнобильській зоні', 'answer': 'Російські військові входить у Чернобиль.', 'metric': {'precision': 0.8351117372512817, 'recall': 0.7472822666168213, 'f1': 0.7887595891952515}},\n",
       "       {'ground-truth-answer': 'В Україні відзначили День військової розвідки', 'answer': 'З Днем Военної розвідки.', 'metric': {'precision': 0.8099087476730347, 'recall': 0.7515135407447815, 'f1': 0.7796192169189453}},\n",
       "       {'ground-truth-answer': 'Чорнобиль', 'answer': 'Російські військові входить у Чернобиль.', 'metric': {'precision': 0.7008987665176392, 'recall': 0.8178777098655701, 'f1': 0.7548832893371582}},\n",
       "       {'ground-truth-answer': 'Українські атаки на Росію посилюються', 'answer': 'Відповідь – російська агресія на Україну.', 'metric': {'precision': 0.7493703365325928, 'recall': 0.7598790526390076, 'f1': 0.7545880675315857}},\n",
       "       {'ground-truth-answer': 'ХІМАРС став дуже ефективним інструментом у знищенні російської військової інфраструктури', 'answer': 'Розбиття ракетних комплексів HIMARS у російській військовій infrastracture.', 'metric': {'precision': 0.7559183835983276, 'recall': 0.7316728234291077, 'f1': 0.7435979247093201}},\n",
       "       {'ground-truth-answer': 'Україна продовжує збивати російські вертольоти', 'answer': 'Повітряний удар по російському вертольету.', 'metric': {'precision': 0.7389971017837524, 'recall': 0.7416975498199463, 'f1': 0.7403448820114136}},\n",
       "       {'ground-truth-answer': 'Путін;Орландо Блум', 'answer': 'Поїздка Орландо Блом у Донецьк з Путіном у 2014 році.', 'metric': {'precision': 0.6943033933639526, 'recall': 0.7854162454605103, 'f1': 0.737054705619812}},\n",
       "       {'ground-truth-answer': 'Росіяни тікають від мобілізації', 'answer': 'Путін оznámів частий мобілізація в Росії.', 'metric': {'precision': 0.7046622633934021, 'recall': 0.7643798589706421, 'f1': 0.7333073019981384}}],\n",
       "      dtype=object)"
      ]
     },
     "execution_count": 8,
     "metadata": {},
     "output_type": "execute_result"
    }
   ],
   "source": [
    "top_10_indices = np.argsort(f1_scores)[-10:][::-1]\n",
    "np.array(results)[top_10_indices]"
   ]
  },
  {
   "cell_type": "code",
   "execution_count": 9,
   "id": "99980490",
   "metadata": {},
   "outputs": [
    {
     "data": {
      "text/plain": [
       "array([{'ground-truth-answer': 'Київська обл;Київ', 'answer': 'На зображенні зображено мем про подію «Кіт, який помер, коли його вдарили по голові ракеткою».', 'metric': {'precision': 0.4970638155937195, 'recall': 0.540182888507843, 'f1': 0.5177270770072937}},\n",
       "       {'ground-truth-answer': 'Фінляндія', 'answer': 'У цьому мемі зображено зустріч Володимира Путіна з президентом України Володимиром Зеленкою та лідером NATO Джоном Керрі.', 'metric': {'precision': 0.5007182359695435, 'recall': 0.5395541787147522, 'f1': 0.5194112658500671}},\n",
       "       {'ground-truth-answer': 'НАТО', 'answer': '75-річчя незалежності України.', 'metric': {'precision': 0.47855091094970703, 'recall': 0.5827016234397888, 'f1': 0.525515615940094}},\n",
       "       {'ground-truth-answer': 'F-16', 'answer': 'Річка Різні та відкриття Східного порту в Києві.', 'metric': {'precision': 0.5282252430915833, 'recall': 0.5229735970497131, 'f1': 0.5255863070487976}},\n",
       "       {'ground-truth-answer': 'Київ', 'answer': 'На зображенні зображено мем про Україну, де зображено кота, що сидить на сміттєвих баках, і підписом «Я, жертовні тривоги, ракеті, шахеди, жертовні тривоги, ракети, шахеди, жертовні тривоги, ракети, шахеди, жертовні тривоги, ракети, шахе', 'metric': {'precision': 0.44678691029548645, 'recall': 0.6653697490692139, 'f1': 0.5345982313156128}},\n",
       "       {'ground-truth-answer': 'Франція', 'answer': 'Вибори до Верховної Ради України 2022 року.', 'metric': {'precision': 0.5137953162193298, 'recall': 0.5604074001312256, 'f1': 0.5360900163650513}},\n",
       "       {'ground-truth-answer': '9 березня українці відзначають день народження свого народного поета Тараса Шевченка', 'answer': 'Виграти матч на Чемпіонаті світу по футболу 2018 року.', 'metric': {'precision': 0.5465840101242065, 'recall': 0.5436423420906067, 'f1': 0.5451091527938843}},\n",
       "       {'ground-truth-answer': 'Румунія виграла футбольний матч Євро-2024 з Україною', 'answer': 'На зображенні зображено мем про подію «Вікно Патріотів», яка є подією, яка відбулася 14 жовтня 2014 року.', 'metric': {'precision': 0.5576701164245605, 'recall': 0.5380106568336487, 'f1': 0.5476640462875366}},\n",
       "       {'ground-truth-answer': 'F-16', 'answer': 'На зображенні зображено мем про російський напад на Україну 24 березня 2014 року.', 'metric': {'precision': 0.5351668000221252, 'recall': 0.5639562010765076, 'f1': 0.5491844415664673}},\n",
       "       {'ground-truth-answer': 'Росія постійно ракетно атакує Україну', 'answer': 'Повітряна тривога.', 'metric': {'precision': 0.5687018036842346, 'recall': 0.5484291315078735, 'f1': 0.5583814978599548}}],\n",
       "      dtype=object)"
      ]
     },
     "execution_count": 9,
     "metadata": {},
     "output_type": "execute_result"
    }
   ],
   "source": [
    "worst_10_indices = np.argsort(f1_scores)[:10]\n",
    "np.array(results)[worst_10_indices]"
   ]
  },
  {
   "cell_type": "code",
   "execution_count": 10,
   "id": "a88891b2",
   "metadata": {},
   "outputs": [],
   "source": [
    "result_filename = file_name.split('.')[0] + 'with_metrics.' + file_name.split('.')[1]\n",
    "\n",
    "with open(result_filename, \"w\", encoding=\"utf-8\") as f:\n",
    "    json.dump(results, f, ensure_ascii=False, indent=4)"
   ]
  }
 ],
 "metadata": {
  "kernelspec": {
   "display_name": "Python 3 (ipykernel)",
   "language": "python",
   "name": "python3"
  },
  "language_info": {
   "codemirror_mode": {
    "name": "ipython",
    "version": 3
   },
   "file_extension": ".py",
   "mimetype": "text/x-python",
   "name": "python",
   "nbconvert_exporter": "python",
   "pygments_lexer": "ipython3",
   "version": "3.11.5"
  }
 },
 "nbformat": 4,
 "nbformat_minor": 5
}
